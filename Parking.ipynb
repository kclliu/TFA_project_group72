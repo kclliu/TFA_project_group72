{
 "cells": [
  {
   "cell_type": "code",
   "execution_count": null,
   "metadata": {},
   "outputs": [],
   "source": [
    "import numpy as np\n",
    "import pandas as pd"
   ]
  },
  {
   "cell_type": "code",
   "execution_count": null,
   "metadata": {},
   "outputs": [],
   "source": [
    "df = pd.read_csv(\"311_Service_Requests_2020.csv\")"
   ]
  },
  {
   "cell_type": "code",
   "execution_count": null,
   "metadata": {},
   "outputs": [],
   "source": [
    "total_incidents = df[\"Unique Key\"].count()\n",
    "myzip_total_incidents = df[df[\"Incident Zip\"] == 10027][\"Unique Key\"].count()\n",
    "df = df[df[\"Complaint Type\"] == \"Illegal Parking\" ]\n",
    "total_illegal_parking = df[\"Complaint Type\"].count()\n",
    "myzip_illegal_parking = df[df[\"Incident Zip\"] == 10027][\"Complaint Type\"].count()"
   ]
  },
  {
   "cell_type": "code",
   "execution_count": null,
   "metadata": {},
   "outputs": [],
   "source": [
    "total_illegal_parking_fraction = total_illegal_parking/total_incidents\n",
    "myzip_illegal_parking_fraction = myzip_illegal_parking/myzip_total_incidents\n",
    "higher_parking_proportion = myzip_illegal_parking_fraction > total_illegal_parking_fraction\n",
    "higher_parking_proportion"
   ]
  }
 ],
 "metadata": {
  "interpreter": {
   "hash": "31f2aee4e71d21fbe5cf8b01ff0e069b9275f58929596ceb00d14d90e3e16cd6"
  },
  "kernelspec": {
   "display_name": "Python 3.8.9 64-bit",
   "language": "python",
   "name": "python3"
  },
  "language_info": {
   "codemirror_mode": {
    "name": "ipython",
    "version": 3
   },
   "file_extension": ".py",
   "mimetype": "text/x-python",
   "name": "python",
   "nbconvert_exporter": "python",
   "pygments_lexer": "ipython3",
   "version": "3.8.12"
  },
  "orig_nbformat": 4
 },
 "nbformat": 4,
 "nbformat_minor": 2
}
